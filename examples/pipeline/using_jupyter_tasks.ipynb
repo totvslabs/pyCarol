{
 "cells": [
  {
   "cell_type": "code",
   "execution_count": 1,
   "metadata": {},
   "outputs": [],
   "source": [
    "from pycarol.pipeline import Pipe\n",
    "import luigi\n",
    "from pipelie_ex import some_tasks, task_config"
   ]
  },
  {
   "cell_type": "code",
   "execution_count": 2,
   "metadata": {},
   "outputs": [
    {
     "data": {
      "text/plain": [
       "{'version': '1.0.0',\n",
       " 'param_1': '1',\n",
       " 'param_2': '2',\n",
       " 'param_3': '3',\n",
       " 'param_4': '4',\n",
       " 'param_5': '5'}"
      ]
     },
     "execution_count": 2,
     "metadata": {},
     "output_type": "execute_result"
    }
   ],
   "source": [
    "params = task_config.params\n",
    "params"
   ]
  },
  {
   "cell_type": "markdown",
   "metadata": {},
   "source": [
    "### To use jupyter tasks we need to use Pipe.\n",
    "Check pipelie_ex/a_notebook_task.ipynb to see what is needed in a jupyter to be able to run it. "
   ]
  },
  {
   "cell_type": "code",
   "execution_count": 3,
   "metadata": {},
   "outputs": [],
   "source": [
    "from pipelie_ex.pipeline import pipe"
   ]
  },
  {
   "cell_type": "markdown",
   "metadata": {},
   "source": [
    "To run the pipeline:"
   ]
  },
  {
   "cell_type": "code",
   "execution_count": 4,
   "metadata": {},
   "outputs": [
    {
     "name": "stderr",
     "output_type": "stream",
     "text": [
      "DEBUG: Checking if pipelie_ex.some_tasks.MyTask4(version=1.0.0, param_1=1, param_2=2, param_3=3, param_4=4) is complete\n",
      "DEBUG: Checking if pipelie_ex.some_tasks.MyTask3(version=1.0.0, param_1=1, param_2=2, param_3=3) is complete\n",
      "INFO: Informed scheduler that task   pipelie_ex.some_tasks.MyTask4_1_2_3_581ebf2a93   has status   PENDING\n",
      "DEBUG: Checking if pipelie_ex.some_tasks.MyTask2(version=1.0.0, param_1=1, param_2=2) is complete\n",
      "INFO: Informed scheduler that task   pipelie_ex.some_tasks.MyTask3_1_2_3_6f1233f726   has status   PENDING\n",
      "DEBUG: Checking if pipelie_ex.some_tasks.MyTask1(version=1.0.0, param_1=1) is complete\n",
      "INFO: Informed scheduler that task   pipelie_ex.some_tasks.MyTask2_1_2_1_0_0_0de75ee0d0   has status   PENDING\n",
      "INFO: Informed scheduler that task   pipelie_ex.some_tasks.MyTask1_1_1_0_0_73dd48bc90   has status   PENDING\n",
      "INFO: Done scheduling tasks\n",
      "INFO: Running Worker with 1 processes\n",
      "DEBUG: Asking scheduler for work...\n",
      "DEBUG: Pending tasks: 4\n",
      "INFO: [pid 11130] Worker Worker(salt=210705807, workers=1, host=Rafaels-MacBook-Pro.local, username=rafarui, pid=11130) running   pipelie_ex.some_tasks.MyTask1(version=1.0.0, param_1=1)\n",
      "/Users/rafarui/Documents/pyCarol/pycarol/pipeline/task/task.py:188: SyntaxWarning: hash versioning only works in task_function mode. It will return dummy hash code\n",
      "  \"It will return dummy hash code\",SyntaxWarning\n",
      "/Users/rafarui/Documents/pyCarol/pycarol/pipeline/targets/targets.py:24: UserWarning: dump_metadata not implemented in LocalTarget\n",
      "  warnings.warn(\"dump_metadata not implemented in LocalTarget\")\n",
      "INFO: [pid 11130] Worker Worker(salt=210705807, workers=1, host=Rafaels-MacBook-Pro.local, username=rafarui, pid=11130) done      pipelie_ex.some_tasks.MyTask1(version=1.0.0, param_1=1)\n",
      "DEBUG: 1 running tasks, waiting for next task to finish\n",
      "INFO: Informed scheduler that task   pipelie_ex.some_tasks.MyTask1_1_1_0_0_73dd48bc90   has status   DONE\n",
      "DEBUG: Asking scheduler for work...\n",
      "DEBUG: Pending tasks: 3\n",
      "INFO: [pid 11130] Worker Worker(salt=210705807, workers=1, host=Rafaels-MacBook-Pro.local, username=rafarui, pid=11130) running   pipelie_ex.some_tasks.MyTask2(version=1.0.0, param_1=1, param_2=2)\n"
     ]
    },
    {
     "name": "stdout",
     "output_type": "stream",
     "text": [
      "output MyTask1 is 1\n"
     ]
    },
    {
     "name": "stderr",
     "output_type": "stream",
     "text": [
      "INFO: [pid 11130] Worker Worker(salt=210705807, workers=1, host=Rafaels-MacBook-Pro.local, username=rafarui, pid=11130) done      pipelie_ex.some_tasks.MyTask2(version=1.0.0, param_1=1, param_2=2)\n",
      "DEBUG: 1 running tasks, waiting for next task to finish\n",
      "INFO: Informed scheduler that task   pipelie_ex.some_tasks.MyTask2_1_2_1_0_0_0de75ee0d0   has status   DONE\n",
      "DEBUG: Asking scheduler for work...\n",
      "DEBUG: Pending tasks: 2\n",
      "INFO: [pid 11130] Worker Worker(salt=210705807, workers=1, host=Rafaels-MacBook-Pro.local, username=rafarui, pid=11130) running   pipelie_ex.some_tasks.MyTask3(version=1.0.0, param_1=1, param_2=2, param_3=3)\n",
      "INFO: [pid 11130] Worker Worker(salt=210705807, workers=1, host=Rafaels-MacBook-Pro.local, username=rafarui, pid=11130) done      pipelie_ex.some_tasks.MyTask3(version=1.0.0, param_1=1, param_2=2, param_3=3)\n",
      "DEBUG: 1 running tasks, waiting for next task to finish\n",
      "INFO: Informed scheduler that task   pipelie_ex.some_tasks.MyTask3_1_2_3_6f1233f726   has status   DONE\n",
      "DEBUG: Asking scheduler for work...\n",
      "DEBUG: Pending tasks: 1\n",
      "INFO: [pid 11130] Worker Worker(salt=210705807, workers=1, host=Rafaels-MacBook-Pro.local, username=rafarui, pid=11130) running   pipelie_ex.some_tasks.MyTask4(version=1.0.0, param_1=1, param_2=2, param_3=3, param_4=4)\n"
     ]
    },
    {
     "name": "stdout",
     "output_type": "stream",
     "text": [
      "this is the input 2\n",
      "this are the task params {'version': '1.0.0', 'param_1': '1', 'param_2': '2', 'param_3': '3'}\n"
     ]
    },
    {
     "data": {
      "application/vnd.jupyter.widget-view+json": {
       "model_id": "0dd5c6882bc3456b96bf75f09048da9b",
       "version_major": 2,
       "version_minor": 0
      },
      "text/plain": [
       "HBox(children=(FloatProgress(value=0.0, description='Executing', max=21.0, style=ProgressStyle(description_wid…"
      ]
     },
     "metadata": {},
     "output_type": "display_data"
    },
    {
     "name": "stderr",
     "output_type": "stream",
     "text": [
      "/Library/Frameworks/Python.framework/Versions/3.6/lib/python3.6/site-packages/papermill/iorw.py:115: UserWarning: the file is not specified with any extension : null\n",
      "  \"the file is not specified with any extension : \" + os.path.basename(path)\n",
      "INFO: [pid 11130] Worker Worker(salt=210705807, workers=1, host=Rafaels-MacBook-Pro.local, username=rafarui, pid=11130) done      pipelie_ex.some_tasks.MyTask4(version=1.0.0, param_1=1, param_2=2, param_3=3, param_4=4)\n",
      "DEBUG: 1 running tasks, waiting for next task to finish\n",
      "INFO: Informed scheduler that task   pipelie_ex.some_tasks.MyTask4_1_2_3_581ebf2a93   has status   DONE\n",
      "DEBUG: Asking scheduler for work...\n",
      "DEBUG: Done\n",
      "DEBUG: There are no more tasks to run at this time\n",
      "INFO: Worker Worker(salt=210705807, workers=1, host=Rafaels-MacBook-Pro.local, username=rafarui, pid=11130) was stopped. Shutting down Keep-Alive thread\n",
      "INFO: \n",
      "===== Luigi Execution Summary =====\n",
      "\n",
      "Scheduled 4 tasks of which:\n",
      "* 4 ran successfully:\n",
      "    - 1 pipelie_ex.some_tasks.MyTask1(version=1.0.0, param_1=1)\n",
      "    - 1 pipelie_ex.some_tasks.MyTask2(version=1.0.0, param_1=1, param_2=2)\n",
      "    - 1 pipelie_ex.some_tasks.MyTask3(version=1.0.0, param_1=1, param_2=2, param_3=3)\n",
      "    - 1 pipelie_ex.some_tasks.MyTask4(version=1.0.0, param_1=1, param_2=2, param_3=3, param_4=4)\n",
      "\n",
      "This progress looks :) because there were no failed tasks or missing dependencies\n",
      "\n",
      "===== Luigi Execution Summary =====\n",
      "\n"
     ]
    },
    {
     "name": "stdout",
     "output_type": "stream",
     "text": [
      "\n"
     ]
    },
    {
     "data": {
      "text/plain": [
       "True"
      ]
     },
     "execution_count": 4,
     "metadata": {},
     "output_type": "execute_result"
    }
   ],
   "source": [
    "pipe.run()"
   ]
  },
  {
   "cell_type": "code",
   "execution_count": 5,
   "metadata": {},
   "outputs": [],
   "source": [
    "#This will return the instance of a task, considering all parameters that it uses. \n",
    "my_task_4_instance = pipe.get_task_instance(some_tasks.MyTask4)"
   ]
  },
  {
   "cell_type": "markdown",
   "metadata": {},
   "source": [
    "Now we can load the target:"
   ]
  },
  {
   "cell_type": "code",
   "execution_count": 6,
   "metadata": {},
   "outputs": [
    {
     "data": {
      "text/plain": [
       "'just run a jupyter notebook here!!!'"
      ]
     },
     "execution_count": 6,
     "metadata": {},
     "output_type": "execute_result"
    }
   ],
   "source": [
    "my_task_4_instance.load()"
   ]
  },
  {
   "cell_type": "code",
   "execution_count": 7,
   "metadata": {},
   "outputs": [
    {
     "name": "stderr",
     "output_type": "stream",
     "text": [
      "/Users/rafarui/Documents/pyCarol/pycarol/pipeline/targets/targets.py:28: UserWarning: load_metadata not implemented in LocalTarget\n",
      "  warnings.warn(\"load_metadata not implemented in LocalTarget\")\n"
     ]
    }
   ],
   "source": [
    "#remove all if you want to test.\n",
    "pipe.remove_all()"
   ]
  },
  {
   "cell_type": "code",
   "execution_count": null,
   "metadata": {},
   "outputs": [],
   "source": []
  }
 ],
 "metadata": {
  "kernelspec": {
   "display_name": "Python 3",
   "language": "python",
   "name": "python3"
  },
  "language_info": {
   "codemirror_mode": {
    "name": "ipython",
    "version": 3
   },
   "file_extension": ".py",
   "mimetype": "text/x-python",
   "name": "python",
   "nbconvert_exporter": "python",
   "pygments_lexer": "ipython3",
   "version": "3.6.8"
  }
 },
 "nbformat": 4,
 "nbformat_minor": 4
}
