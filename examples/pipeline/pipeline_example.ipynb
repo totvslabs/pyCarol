{
 "cells": [
  {
   "cell_type": "code",
   "execution_count": 1,
   "metadata": {},
   "outputs": [],
   "source": [
    "from pycarol.pipeline import Pipe\n",
    "import luigi\n",
    "from pipelie_ex import some_tasks, task_config"
   ]
  },
  {
   "cell_type": "code",
   "execution_count": 2,
   "metadata": {},
   "outputs": [
    {
     "data": {
      "text/plain": [
       "{'version': '1.0.0',\n",
       " 'param_1': '1',\n",
       " 'param_2': '2',\n",
       " 'param_3': '3',\n",
       " 'param_4': '4',\n",
       " 'param_5': '5'}"
      ]
     },
     "execution_count": 2,
     "metadata": {},
     "output_type": "execute_result"
    }
   ],
   "source": [
    "params = task_config.params\n",
    "params"
   ]
  },
  {
   "cell_type": "markdown",
   "metadata": {},
   "source": [
    "## Running a Task"
   ]
  },
  {
   "cell_type": "markdown",
   "metadata": {},
   "source": [
    "#### 1. Using luigi"
   ]
  },
  {
   "cell_type": "code",
   "execution_count": 3,
   "metadata": {},
   "outputs": [
    {
     "name": "stderr",
     "output_type": "stream",
     "text": [
      "DEBUG: Checking if pipelie_ex.some_tasks.MyTask3(version=1.0.0, param_1=1, param_2=2, param_3=3) is complete\n",
      "DEBUG: Checking if pipelie_ex.some_tasks.MyTask2(version=1.0.0, param_1=1, param_2=2) is complete\n",
      "INFO: Informed scheduler that task   pipelie_ex.some_tasks.MyTask3_1_2_3_6f1233f726   has status   PENDING\n",
      "DEBUG: Checking if pipelie_ex.some_tasks.MyTask1(version=1.0.0, param_1=1) is complete\n",
      "INFO: Informed scheduler that task   pipelie_ex.some_tasks.MyTask2_1_2_1_0_0_0de75ee0d0   has status   PENDING\n",
      "INFO: Informed scheduler that task   pipelie_ex.some_tasks.MyTask1_1_1_0_0_73dd48bc90   has status   PENDING\n",
      "INFO: Done scheduling tasks\n",
      "INFO: Running Worker with 1 processes\n",
      "DEBUG: Asking scheduler for work...\n",
      "DEBUG: Pending tasks: 3\n",
      "INFO: [pid 11106] Worker Worker(salt=521022638, workers=1, host=Rafaels-MacBook-Pro.local, username=rafarui, pid=11106) running   pipelie_ex.some_tasks.MyTask1(version=1.0.0, param_1=1)\n",
      "/Users/rafarui/Documents/pyCarol/pycarol/pipeline/task/task.py:188: SyntaxWarning: hash versioning only works in task_function mode. It will return dummy hash code\n",
      "  \"It will return dummy hash code\",SyntaxWarning\n",
      "/Users/rafarui/Documents/pyCarol/pycarol/pipeline/targets/targets.py:24: UserWarning: dump_metadata not implemented in LocalTarget\n",
      "  warnings.warn(\"dump_metadata not implemented in LocalTarget\")\n",
      "INFO: [pid 11106] Worker Worker(salt=521022638, workers=1, host=Rafaels-MacBook-Pro.local, username=rafarui, pid=11106) done      pipelie_ex.some_tasks.MyTask1(version=1.0.0, param_1=1)\n",
      "DEBUG: 1 running tasks, waiting for next task to finish\n",
      "INFO: Informed scheduler that task   pipelie_ex.some_tasks.MyTask1_1_1_0_0_73dd48bc90   has status   DONE\n",
      "DEBUG: Asking scheduler for work...\n",
      "DEBUG: Pending tasks: 2\n",
      "INFO: [pid 11106] Worker Worker(salt=521022638, workers=1, host=Rafaels-MacBook-Pro.local, username=rafarui, pid=11106) running   pipelie_ex.some_tasks.MyTask2(version=1.0.0, param_1=1, param_2=2)\n"
     ]
    },
    {
     "name": "stdout",
     "output_type": "stream",
     "text": [
      "output MyTask1 is 1\n"
     ]
    },
    {
     "name": "stderr",
     "output_type": "stream",
     "text": [
      "INFO: [pid 11106] Worker Worker(salt=521022638, workers=1, host=Rafaels-MacBook-Pro.local, username=rafarui, pid=11106) done      pipelie_ex.some_tasks.MyTask2(version=1.0.0, param_1=1, param_2=2)\n",
      "DEBUG: 1 running tasks, waiting for next task to finish\n",
      "INFO: Informed scheduler that task   pipelie_ex.some_tasks.MyTask2_1_2_1_0_0_0de75ee0d0   has status   DONE\n",
      "DEBUG: Asking scheduler for work...\n",
      "DEBUG: Pending tasks: 1\n",
      "INFO: [pid 11106] Worker Worker(salt=521022638, workers=1, host=Rafaels-MacBook-Pro.local, username=rafarui, pid=11106) running   pipelie_ex.some_tasks.MyTask3(version=1.0.0, param_1=1, param_2=2, param_3=3)\n",
      "INFO: [pid 11106] Worker Worker(salt=521022638, workers=1, host=Rafaels-MacBook-Pro.local, username=rafarui, pid=11106) done      pipelie_ex.some_tasks.MyTask3(version=1.0.0, param_1=1, param_2=2, param_3=3)\n",
      "DEBUG: 1 running tasks, waiting for next task to finish\n",
      "INFO: Informed scheduler that task   pipelie_ex.some_tasks.MyTask3_1_2_3_6f1233f726   has status   DONE\n",
      "DEBUG: Asking scheduler for work...\n",
      "DEBUG: Done\n",
      "DEBUG: There are no more tasks to run at this time\n",
      "INFO: Worker Worker(salt=521022638, workers=1, host=Rafaels-MacBook-Pro.local, username=rafarui, pid=11106) was stopped. Shutting down Keep-Alive thread\n",
      "INFO: \n",
      "===== Luigi Execution Summary =====\n",
      "\n",
      "Scheduled 3 tasks of which:\n",
      "* 3 ran successfully:\n",
      "    - 1 pipelie_ex.some_tasks.MyTask1(version=1.0.0, param_1=1)\n",
      "    - 1 pipelie_ex.some_tasks.MyTask2(version=1.0.0, param_1=1, param_2=2)\n",
      "    - 1 pipelie_ex.some_tasks.MyTask3(version=1.0.0, param_1=1, param_2=2, param_3=3)\n",
      "\n",
      "This progress looks :) because there were no failed tasks or missing dependencies\n",
      "\n",
      "===== Luigi Execution Summary =====\n",
      "\n"
     ]
    },
    {
     "name": "stdout",
     "output_type": "stream",
     "text": [
      "this is the input 2\n",
      "this are the task params {'version': '1.0.0', 'param_1': '1', 'param_2': '2', 'param_3': '3'}\n"
     ]
    },
    {
     "data": {
      "text/plain": [
       "True"
      ]
     },
     "execution_count": 3,
     "metadata": {},
     "output_type": "execute_result"
    }
   ],
   "source": [
    "luigi.build([some_tasks.MyTask3(**params)], local_scheduler=True)"
   ]
  },
  {
   "cell_type": "code",
   "execution_count": 4,
   "metadata": {},
   "outputs": [],
   "source": [
    "! rm -rf my_app_target_folder"
   ]
  },
  {
   "cell_type": "markdown",
   "metadata": {},
   "source": [
    "#### 2. Using special method"
   ]
  },
  {
   "cell_type": "code",
   "execution_count": 5,
   "metadata": {},
   "outputs": [
    {
     "name": "stderr",
     "output_type": "stream",
     "text": [
      "DEBUG: Checking if pipelie_ex.some_tasks.MyTask3(version=1.0.0, param_1=1, param_2=2, param_3=3) is complete\n",
      "DEBUG: Checking if pipelie_ex.some_tasks.MyTask2(version=1.0.0, param_1=1, param_2=2) is complete\n",
      "INFO: Informed scheduler that task   pipelie_ex.some_tasks.MyTask3_1_2_3_6f1233f726   has status   PENDING\n",
      "DEBUG: Checking if pipelie_ex.some_tasks.MyTask1(version=1.0.0, param_1=1) is complete\n",
      "INFO: Informed scheduler that task   pipelie_ex.some_tasks.MyTask2_1_2_1_0_0_0de75ee0d0   has status   PENDING\n",
      "INFO: Informed scheduler that task   pipelie_ex.some_tasks.MyTask1_1_1_0_0_73dd48bc90   has status   PENDING\n",
      "INFO: Done scheduling tasks\n",
      "INFO: Running Worker with 1 processes\n",
      "DEBUG: Asking scheduler for work...\n",
      "DEBUG: Pending tasks: 3\n",
      "INFO: [pid 11106] Worker Worker(salt=019284101, workers=1, host=Rafaels-MacBook-Pro.local, username=rafarui, pid=11106) running   pipelie_ex.some_tasks.MyTask1(version=1.0.0, param_1=1)\n",
      "INFO: [pid 11106] Worker Worker(salt=019284101, workers=1, host=Rafaels-MacBook-Pro.local, username=rafarui, pid=11106) done      pipelie_ex.some_tasks.MyTask1(version=1.0.0, param_1=1)\n",
      "DEBUG: 1 running tasks, waiting for next task to finish\n",
      "INFO: Informed scheduler that task   pipelie_ex.some_tasks.MyTask1_1_1_0_0_73dd48bc90   has status   DONE\n",
      "DEBUG: Asking scheduler for work...\n",
      "DEBUG: Pending tasks: 2\n",
      "INFO: [pid 11106] Worker Worker(salt=019284101, workers=1, host=Rafaels-MacBook-Pro.local, username=rafarui, pid=11106) running   pipelie_ex.some_tasks.MyTask2(version=1.0.0, param_1=1, param_2=2)\n"
     ]
    },
    {
     "name": "stdout",
     "output_type": "stream",
     "text": [
      "output MyTask1 is 1\n"
     ]
    },
    {
     "name": "stderr",
     "output_type": "stream",
     "text": [
      "INFO: [pid 11106] Worker Worker(salt=019284101, workers=1, host=Rafaels-MacBook-Pro.local, username=rafarui, pid=11106) done      pipelie_ex.some_tasks.MyTask2(version=1.0.0, param_1=1, param_2=2)\n",
      "DEBUG: 1 running tasks, waiting for next task to finish\n",
      "INFO: Informed scheduler that task   pipelie_ex.some_tasks.MyTask2_1_2_1_0_0_0de75ee0d0   has status   DONE\n",
      "DEBUG: Asking scheduler for work...\n",
      "DEBUG: Pending tasks: 1\n",
      "INFO: [pid 11106] Worker Worker(salt=019284101, workers=1, host=Rafaels-MacBook-Pro.local, username=rafarui, pid=11106) running   pipelie_ex.some_tasks.MyTask3(version=1.0.0, param_1=1, param_2=2, param_3=3)\n",
      "INFO: [pid 11106] Worker Worker(salt=019284101, workers=1, host=Rafaels-MacBook-Pro.local, username=rafarui, pid=11106) done      pipelie_ex.some_tasks.MyTask3(version=1.0.0, param_1=1, param_2=2, param_3=3)\n",
      "DEBUG: 1 running tasks, waiting for next task to finish\n",
      "INFO: Informed scheduler that task   pipelie_ex.some_tasks.MyTask3_1_2_3_6f1233f726   has status   DONE\n",
      "DEBUG: Asking scheduler for work...\n",
      "DEBUG: Done\n",
      "DEBUG: There are no more tasks to run at this time\n",
      "INFO: Worker Worker(salt=019284101, workers=1, host=Rafaels-MacBook-Pro.local, username=rafarui, pid=11106) was stopped. Shutting down Keep-Alive thread\n",
      "INFO: \n",
      "===== Luigi Execution Summary =====\n",
      "\n",
      "Scheduled 3 tasks of which:\n",
      "* 3 ran successfully:\n",
      "    - 1 pipelie_ex.some_tasks.MyTask1(version=1.0.0, param_1=1)\n",
      "    - 1 pipelie_ex.some_tasks.MyTask2(version=1.0.0, param_1=1, param_2=2)\n",
      "    - 1 pipelie_ex.some_tasks.MyTask3(version=1.0.0, param_1=1, param_2=2, param_3=3)\n",
      "\n",
      "This progress looks :) because there were no failed tasks or missing dependencies\n",
      "\n",
      "===== Luigi Execution Summary =====\n",
      "\n"
     ]
    },
    {
     "name": "stdout",
     "output_type": "stream",
     "text": [
      "this is the input 2\n",
      "this are the task params {'version': '1.0.0', 'param_1': '1', 'param_2': '2', 'param_3': '3'}\n"
     ]
    }
   ],
   "source": [
    "some_tasks.MyTask3(**params).buildme()"
   ]
  },
  {
   "cell_type": "code",
   "execution_count": 6,
   "metadata": {},
   "outputs": [],
   "source": [
    "! rm -rf my_app_target_folder"
   ]
  },
  {
   "cell_type": "markdown",
   "metadata": {},
   "source": [
    "`buildme` method works exactly like `luigi.build`"
   ]
  },
  {
   "cell_type": "markdown",
   "metadata": {},
   "source": [
    "### Creating pipelines"
   ]
  },
  {
   "cell_type": "markdown",
   "metadata": {},
   "source": [
    "pycarol has a spacial API called Pipe. This allow us to have more control over all tasks, and easily find task to load, remove, etc.\n",
    "\n",
    "Let's create a pipeline:"
   ]
  },
  {
   "cell_type": "code",
   "execution_count": 7,
   "metadata": {},
   "outputs": [],
   "source": [
    "#note that in pipelines we send only the task class not the instance. \n",
    "pipe = Pipe([some_tasks.MyTask3], params)"
   ]
  },
  {
   "cell_type": "markdown",
   "metadata": {},
   "source": [
    "To run the pipeline:"
   ]
  },
  {
   "cell_type": "code",
   "execution_count": 8,
   "metadata": {},
   "outputs": [
    {
     "name": "stderr",
     "output_type": "stream",
     "text": [
      "DEBUG: Checking if pipelie_ex.some_tasks.MyTask3(version=1.0.0, param_1=1, param_2=2, param_3=3) is complete\n",
      "DEBUG: Checking if pipelie_ex.some_tasks.MyTask2(version=1.0.0, param_1=1, param_2=2) is complete\n",
      "INFO: Informed scheduler that task   pipelie_ex.some_tasks.MyTask3_1_2_3_6f1233f726   has status   PENDING\n",
      "DEBUG: Checking if pipelie_ex.some_tasks.MyTask1(version=1.0.0, param_1=1) is complete\n",
      "INFO: Informed scheduler that task   pipelie_ex.some_tasks.MyTask2_1_2_1_0_0_0de75ee0d0   has status   PENDING\n",
      "INFO: Informed scheduler that task   pipelie_ex.some_tasks.MyTask1_1_1_0_0_73dd48bc90   has status   PENDING\n",
      "INFO: Done scheduling tasks\n",
      "INFO: Running Worker with 1 processes\n",
      "DEBUG: Asking scheduler for work...\n",
      "DEBUG: Pending tasks: 3\n",
      "INFO: [pid 11106] Worker Worker(salt=251714557, workers=1, host=Rafaels-MacBook-Pro.local, username=rafarui, pid=11106) running   pipelie_ex.some_tasks.MyTask1(version=1.0.0, param_1=1)\n",
      "INFO: [pid 11106] Worker Worker(salt=251714557, workers=1, host=Rafaels-MacBook-Pro.local, username=rafarui, pid=11106) done      pipelie_ex.some_tasks.MyTask1(version=1.0.0, param_1=1)\n",
      "DEBUG: 1 running tasks, waiting for next task to finish\n",
      "INFO: Informed scheduler that task   pipelie_ex.some_tasks.MyTask1_1_1_0_0_73dd48bc90   has status   DONE\n",
      "DEBUG: Asking scheduler for work...\n",
      "DEBUG: Pending tasks: 2\n",
      "INFO: [pid 11106] Worker Worker(salt=251714557, workers=1, host=Rafaels-MacBook-Pro.local, username=rafarui, pid=11106) running   pipelie_ex.some_tasks.MyTask2(version=1.0.0, param_1=1, param_2=2)\n"
     ]
    },
    {
     "name": "stdout",
     "output_type": "stream",
     "text": [
      "output MyTask1 is 1\n"
     ]
    },
    {
     "name": "stderr",
     "output_type": "stream",
     "text": [
      "INFO: [pid 11106] Worker Worker(salt=251714557, workers=1, host=Rafaels-MacBook-Pro.local, username=rafarui, pid=11106) done      pipelie_ex.some_tasks.MyTask2(version=1.0.0, param_1=1, param_2=2)\n",
      "DEBUG: 1 running tasks, waiting for next task to finish\n",
      "INFO: Informed scheduler that task   pipelie_ex.some_tasks.MyTask2_1_2_1_0_0_0de75ee0d0   has status   DONE\n",
      "DEBUG: Asking scheduler for work...\n",
      "DEBUG: Pending tasks: 1\n",
      "INFO: [pid 11106] Worker Worker(salt=251714557, workers=1, host=Rafaels-MacBook-Pro.local, username=rafarui, pid=11106) running   pipelie_ex.some_tasks.MyTask3(version=1.0.0, param_1=1, param_2=2, param_3=3)\n",
      "INFO: [pid 11106] Worker Worker(salt=251714557, workers=1, host=Rafaels-MacBook-Pro.local, username=rafarui, pid=11106) done      pipelie_ex.some_tasks.MyTask3(version=1.0.0, param_1=1, param_2=2, param_3=3)\n",
      "DEBUG: 1 running tasks, waiting for next task to finish\n",
      "INFO: Informed scheduler that task   pipelie_ex.some_tasks.MyTask3_1_2_3_6f1233f726   has status   DONE\n",
      "DEBUG: Asking scheduler for work...\n",
      "DEBUG: Done\n",
      "DEBUG: There are no more tasks to run at this time\n",
      "INFO: Worker Worker(salt=251714557, workers=1, host=Rafaels-MacBook-Pro.local, username=rafarui, pid=11106) was stopped. Shutting down Keep-Alive thread\n",
      "INFO: \n",
      "===== Luigi Execution Summary =====\n",
      "\n",
      "Scheduled 3 tasks of which:\n",
      "* 3 ran successfully:\n",
      "    - 1 pipelie_ex.some_tasks.MyTask1(version=1.0.0, param_1=1)\n",
      "    - 1 pipelie_ex.some_tasks.MyTask2(version=1.0.0, param_1=1, param_2=2)\n",
      "    - 1 pipelie_ex.some_tasks.MyTask3(version=1.0.0, param_1=1, param_2=2, param_3=3)\n",
      "\n",
      "This progress looks :) because there were no failed tasks or missing dependencies\n",
      "\n",
      "===== Luigi Execution Summary =====\n",
      "\n"
     ]
    },
    {
     "name": "stdout",
     "output_type": "stream",
     "text": [
      "this is the input 2\n",
      "this are the task params {'version': '1.0.0', 'param_1': '1', 'param_2': '2', 'param_3': '3'}\n"
     ]
    },
    {
     "data": {
      "text/plain": [
       "True"
      ]
     },
     "execution_count": 8,
     "metadata": {},
     "output_type": "execute_result"
    }
   ],
   "source": [
    "pipe.run()"
   ]
  },
  {
   "cell_type": "markdown",
   "metadata": {},
   "source": [
    "virtaully this is exactly the same thing that `luigi.run`, but now we have more options. Let's say I want to find a task that just run"
   ]
  },
  {
   "cell_type": "code",
   "execution_count": 9,
   "metadata": {},
   "outputs": [],
   "source": [
    "#This will return the instance of a task, considering all parameters that it uses. \n",
    "my_task_2_instance = pipe.get_task_instance(some_tasks.MyTask2)"
   ]
  },
  {
   "cell_type": "markdown",
   "metadata": {},
   "source": [
    "Now we can load the target:"
   ]
  },
  {
   "cell_type": "code",
   "execution_count": 10,
   "metadata": {},
   "outputs": [
    {
     "data": {
      "text/plain": [
       "'2'"
      ]
     },
     "execution_count": 10,
     "metadata": {},
     "output_type": "execute_result"
    }
   ],
   "source": [
    "my_task_2_instance.load()"
   ]
  },
  {
   "cell_type": "markdown",
   "metadata": {},
   "source": [
    "One can remove the target:"
   ]
  },
  {
   "cell_type": "code",
   "execution_count": 11,
   "metadata": {},
   "outputs": [
    {
     "name": "stderr",
     "output_type": "stream",
     "text": [
      "/Users/rafarui/Documents/pyCarol/pycarol/pipeline/targets/targets.py:28: UserWarning: load_metadata not implemented in LocalTarget\n",
      "  warnings.warn(\"load_metadata not implemented in LocalTarget\")\n"
     ]
    }
   ],
   "source": [
    "my_task_2_instance.remove()"
   ]
  },
  {
   "cell_type": "code",
   "execution_count": 12,
   "metadata": {},
   "outputs": [
    {
     "data": {
      "text/plain": [
       "False"
      ]
     },
     "execution_count": 12,
     "metadata": {},
     "output_type": "execute_result"
    }
   ],
   "source": [
    "my_task_2_instance.complete()"
   ]
  },
  {
   "cell_type": "markdown",
   "metadata": {},
   "source": [
    "I can use Pipe to remove all tasks"
   ]
  },
  {
   "cell_type": "code",
   "execution_count": 13,
   "metadata": {},
   "outputs": [],
   "source": [
    "pipe.remove_all()"
   ]
  },
  {
   "cell_type": "code",
   "execution_count": 14,
   "metadata": {},
   "outputs": [
    {
     "name": "stdout",
     "output_type": "stream",
     "text": [
      "total 0\n",
      "drwxr-xr-x  2 rafarui  staff  64 Oct  7 16:54 \u001b[1m\u001b[36m.\u001b[m\u001b[m\n",
      "drwxr-xr-x  3 rafarui  staff  96 Oct  7 16:54 \u001b[1m\u001b[36m..\u001b[m\u001b[m\n"
     ]
    }
   ],
   "source": [
    "#empty folder\n",
    "! ls -la my_app_target_folder/pipelie_ex.some_tasks/"
   ]
  },
  {
   "cell_type": "code",
   "execution_count": null,
   "metadata": {},
   "outputs": [],
   "source": []
  }
 ],
 "metadata": {
  "kernelspec": {
   "display_name": "Python 3",
   "language": "python",
   "name": "python3"
  },
  "language_info": {
   "codemirror_mode": {
    "name": "ipython",
    "version": 3
   },
   "file_extension": ".py",
   "mimetype": "text/x-python",
   "name": "python",
   "nbconvert_exporter": "python",
   "pygments_lexer": "ipython3",
   "version": "3.6.8"
  }
 },
 "nbformat": 4,
 "nbformat_minor": 4
}
