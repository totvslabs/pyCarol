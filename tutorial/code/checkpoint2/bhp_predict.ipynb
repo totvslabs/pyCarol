{
 "cells": [
  {
   "cell_type": "markdown",
   "source": [
    "<h1><center>Train Model</center></h1>\n",
    "\n",
    "In this tutorial we check the simplest way of predicting inside the Carol Platform. This notebook fetches data from Carol, makes predictions and then send them to Carol."
   ],
   "metadata": {}
  },
  {
   "cell_type": "markdown",
   "source": [
    "## 0. Installing required packages\n",
    "\n",
    "Appart from the well known pandas an numpy libraries we are going to use:\n",
    " - sklearn: popular machine learning library comprising datasets, preprocessing and machine learning models.\n",
    " - pycarol: TOTVS library developed to assist on the data management for Carol platform.\n",
    " \n",
    "I you have not yet installed these libraries just uncomment and run the cells below."
   ],
   "metadata": {}
  },
  {
   "cell_type": "code",
   "execution_count": null,
   "source": [
    "#!pip install pycarol\n",
    "#!pip install sklearn"
   ],
   "outputs": [],
   "metadata": {}
  },
  {
   "cell_type": "markdown",
   "source": [
    "## 1. Fetching data from Carol"
   ],
   "metadata": {}
  },
  {
   "cell_type": "markdown",
   "source": [
    "We start by defining a connection to the carol platform. To make the connection, though, we need to setup the security authorization to the environment, which is made through the __access token__.\n",
    "\n",
    "On this example we are simply passing the credentials directly through the code, which is not the best approach for long term solution, specially if this code needs to go through version control servers. A better solution is to store these credentials in expernal files, preferably encrypted, and load them at run time."
   ],
   "metadata": {}
  },
  {
   "cell_type": "code",
   "execution_count": 1,
   "source": [
    "from pycarol import Carol, Staging, Storage\n",
    "from dotenv import load_dotenv\n",
    "load_dotenv(\"/home/jro/wk/totvs/pyCarol/.env\")\n",
    "login = Carol()"
   ],
   "outputs": [],
   "metadata": {}
  },
  {
   "cell_type": "markdown",
   "source": [
    "Now we use the authentication to fetch the data from the staging"
   ],
   "metadata": {}
  },
  {
   "cell_type": "code",
   "execution_count": 5,
   "source": [
    "staging = Staging(login)\n",
    "\n",
    "conn = \"boston_house_price\"\n",
    "stag = \"samples\"\n",
    "\n",
    "X_cols = [\"CRIM\", \"ZN\", \"INDUS\", \"CHAS\", \"NOX\", \"RM\", \"AGE\", \"DIS\", \"RAD\", \"TAX\", \"PTRATIO\", \"B\", \"LSTAT\", \"sample\"]\n",
    "roi_cols = X_cols\n",
    "\n",
    "data = staging.fetch_parquet(staging_name=stag,\n",
    "                connector_name=conn,\n",
    "                cds=True,\n",
    "                columns=roi_cols            \n",
    "                )"
   ],
   "outputs": [
    {
     "output_type": "stream",
     "name": "stderr",
     "text": [
      "100%|██████████| 1/1 [00:01<00:00,  1.46s/it]\n"
     ]
    }
   ],
   "metadata": {}
  },
  {
   "cell_type": "markdown",
   "source": [
    "Revising some sample records:"
   ],
   "metadata": {}
  },
  {
   "cell_type": "code",
   "execution_count": 6,
   "source": [
    "data.sample(3)"
   ],
   "outputs": [
    {
     "output_type": "execute_result",
     "data": {
      "text/plain": [
       "      AGE       B  CHAS     CRIM     DIS  INDUS  LSTAT    NOX  PTRATIO   RAD  \\\n",
       "222   8.4  396.90   0.0  0.36894  8.9067   5.86   3.54  0.431     19.1   7.0   \n",
       "348  82.8  393.39   0.0  0.26938  3.2628   9.90   7.90  0.544     18.4   4.0   \n",
       "485  95.4  352.58   0.0  8.05579  2.4298  18.10  18.14  0.584     20.2  24.0   \n",
       "\n",
       "        RM    TAX    ZN  sample  \n",
       "222  8.259  330.0  22.0   253.0  \n",
       "348  6.266  304.0   0.0   313.0  \n",
       "485  5.427  666.0   0.0   474.0  "
      ],
      "text/html": [
       "<div>\n",
       "<style scoped>\n",
       "    .dataframe tbody tr th:only-of-type {\n",
       "        vertical-align: middle;\n",
       "    }\n",
       "\n",
       "    .dataframe tbody tr th {\n",
       "        vertical-align: top;\n",
       "    }\n",
       "\n",
       "    .dataframe thead th {\n",
       "        text-align: right;\n",
       "    }\n",
       "</style>\n",
       "<table border=\"1\" class=\"dataframe\">\n",
       "  <thead>\n",
       "    <tr style=\"text-align: right;\">\n",
       "      <th></th>\n",
       "      <th>AGE</th>\n",
       "      <th>B</th>\n",
       "      <th>CHAS</th>\n",
       "      <th>CRIM</th>\n",
       "      <th>DIS</th>\n",
       "      <th>INDUS</th>\n",
       "      <th>LSTAT</th>\n",
       "      <th>NOX</th>\n",
       "      <th>PTRATIO</th>\n",
       "      <th>RAD</th>\n",
       "      <th>RM</th>\n",
       "      <th>TAX</th>\n",
       "      <th>ZN</th>\n",
       "      <th>sample</th>\n",
       "    </tr>\n",
       "  </thead>\n",
       "  <tbody>\n",
       "    <tr>\n",
       "      <th>222</th>\n",
       "      <td>8.4</td>\n",
       "      <td>396.90</td>\n",
       "      <td>0.0</td>\n",
       "      <td>0.36894</td>\n",
       "      <td>8.9067</td>\n",
       "      <td>5.86</td>\n",
       "      <td>3.54</td>\n",
       "      <td>0.431</td>\n",
       "      <td>19.1</td>\n",
       "      <td>7.0</td>\n",
       "      <td>8.259</td>\n",
       "      <td>330.0</td>\n",
       "      <td>22.0</td>\n",
       "      <td>253.0</td>\n",
       "    </tr>\n",
       "    <tr>\n",
       "      <th>348</th>\n",
       "      <td>82.8</td>\n",
       "      <td>393.39</td>\n",
       "      <td>0.0</td>\n",
       "      <td>0.26938</td>\n",
       "      <td>3.2628</td>\n",
       "      <td>9.90</td>\n",
       "      <td>7.90</td>\n",
       "      <td>0.544</td>\n",
       "      <td>18.4</td>\n",
       "      <td>4.0</td>\n",
       "      <td>6.266</td>\n",
       "      <td>304.0</td>\n",
       "      <td>0.0</td>\n",
       "      <td>313.0</td>\n",
       "    </tr>\n",
       "    <tr>\n",
       "      <th>485</th>\n",
       "      <td>95.4</td>\n",
       "      <td>352.58</td>\n",
       "      <td>0.0</td>\n",
       "      <td>8.05579</td>\n",
       "      <td>2.4298</td>\n",
       "      <td>18.10</td>\n",
       "      <td>18.14</td>\n",
       "      <td>0.584</td>\n",
       "      <td>20.2</td>\n",
       "      <td>24.0</td>\n",
       "      <td>5.427</td>\n",
       "      <td>666.0</td>\n",
       "      <td>0.0</td>\n",
       "      <td>474.0</td>\n",
       "    </tr>\n",
       "  </tbody>\n",
       "</table>\n",
       "</div>"
      ]
     },
     "metadata": {},
     "execution_count": 6
    }
   ],
   "metadata": {}
  },
  {
   "cell_type": "markdown",
   "source": [
    "## 2. Predicting"
   ],
   "metadata": {}
  },
  {
   "cell_type": "markdown",
   "source": [
    "Spliting the dataset in training and test parts."
   ],
   "metadata": {}
  },
  {
   "cell_type": "code",
   "execution_count": 23,
   "source": [
    "from sklearn.model_selection import train_test_split\n",
    "\n",
    "_, X_test = train_test_split(data[X_cols], test_size=0.20, random_state=1)"
   ],
   "outputs": [],
   "metadata": {}
  },
  {
   "cell_type": "markdown",
   "source": [
    "Download the trained model:"
   ],
   "metadata": {}
  },
  {
   "cell_type": "code",
   "execution_count": 13,
   "source": [
    "stg = Storage(login)\n",
    "mlp_model = stg.load(\"bhp_mlp_regressor\", format='pickle')"
   ],
   "outputs": [
    {
     "output_type": "stream",
     "name": "stderr",
     "text": [
      "/home/jro/sw/conda3/envs/clockin/lib/python3.6/site-packages/sklearn/base.py:318: UserWarning: Trying to unpickle estimator MLPRegressor from version 0.24.2 when using version 0.22.1. This might lead to breaking code or invalid results. Use at your own risk.\n",
      "  UserWarning)\n"
     ]
    }
   ],
   "metadata": {}
  },
  {
   "cell_type": "code",
   "execution_count": 14,
   "source": [
    "mlp_model"
   ],
   "outputs": [
    {
     "output_type": "execute_result",
     "data": {
      "text/plain": [
       "MLPRegressor(activation='relu', alpha=0.0001, batch_size='auto', beta_1=0.9,\n",
       "             beta_2=0.999, early_stopping=False, epsilon=1e-08,\n",
       "             hidden_layer_sizes=(100,), learning_rate='constant',\n",
       "             learning_rate_init=0.001, max_fun=15000, max_iter=500,\n",
       "             momentum=0.9, n_iter_no_change=10, nesterovs_momentum=True,\n",
       "             power_t=0.5, random_state=1, shuffle=True, solver='adam',\n",
       "             tol=0.0001, validation_fraction=0.1, verbose=False,\n",
       "             warm_start=False)"
      ]
     },
     "metadata": {},
     "execution_count": 14
    }
   ],
   "metadata": {}
  },
  {
   "cell_type": "markdown",
   "source": [
    "Running predictions on the test set."
   ],
   "metadata": {}
  },
  {
   "cell_type": "code",
   "execution_count": 24,
   "source": [
    "test_cols = [\"CRIM\", \"ZN\", \"INDUS\", \"CHAS\", \"NOX\", \"RM\", \"AGE\", \"DIS\", \"RAD\", \"TAX\", \"PTRATIO\", \"B\", \"LSTAT\"]\n",
    "y_pred = mlp_model.predict(X_test[test_cols])"
   ],
   "outputs": [],
   "metadata": {}
  },
  {
   "cell_type": "code",
   "execution_count": 30,
   "source": [
    "import pandas as pd\n",
    "predictions = X_test[[\"sample\"]].copy()\n",
    "predictions[\"predicted_value\"] = y_pred\n",
    "predictions[\"prediction_date\"] = pd.Timestamp.now()"
   ],
   "outputs": [],
   "metadata": {}
  },
  {
   "cell_type": "code",
   "execution_count": 31,
   "source": [
    "predictions"
   ],
   "outputs": [
    {
     "output_type": "execute_result",
     "data": {
      "text/plain": [
       "     sample  predicted_value            prediction_date\n",
       "307   387.0        11.091209 2021-08-26 18:08:01.413006\n",
       "343   308.0        33.918616 2021-08-26 18:08:01.413006\n",
       "47     51.0        27.171708 2021-08-26 18:08:01.413006\n",
       "67     97.0        34.670554 2021-08-26 18:08:01.413006\n",
       "362   327.0        22.916432 2021-08-26 18:08:01.413006\n",
       "..      ...              ...                        ...\n",
       "92     79.0        25.738413 2021-08-26 18:08:01.413006\n",
       "224   251.0        29.765805 2021-08-26 18:08:01.413006\n",
       "110   166.0        41.352617 2021-08-26 18:08:01.413006\n",
       "426   422.0        21.862447 2021-08-26 18:08:01.413006\n",
       "443   416.0        12.159157 2021-08-26 18:08:01.413006\n",
       "\n",
       "[102 rows x 3 columns]"
      ],
      "text/html": [
       "<div>\n",
       "<style scoped>\n",
       "    .dataframe tbody tr th:only-of-type {\n",
       "        vertical-align: middle;\n",
       "    }\n",
       "\n",
       "    .dataframe tbody tr th {\n",
       "        vertical-align: top;\n",
       "    }\n",
       "\n",
       "    .dataframe thead th {\n",
       "        text-align: right;\n",
       "    }\n",
       "</style>\n",
       "<table border=\"1\" class=\"dataframe\">\n",
       "  <thead>\n",
       "    <tr style=\"text-align: right;\">\n",
       "      <th></th>\n",
       "      <th>sample</th>\n",
       "      <th>predicted_value</th>\n",
       "      <th>prediction_date</th>\n",
       "    </tr>\n",
       "  </thead>\n",
       "  <tbody>\n",
       "    <tr>\n",
       "      <th>307</th>\n",
       "      <td>387.0</td>\n",
       "      <td>11.091209</td>\n",
       "      <td>2021-08-26 18:08:01.413006</td>\n",
       "    </tr>\n",
       "    <tr>\n",
       "      <th>343</th>\n",
       "      <td>308.0</td>\n",
       "      <td>33.918616</td>\n",
       "      <td>2021-08-26 18:08:01.413006</td>\n",
       "    </tr>\n",
       "    <tr>\n",
       "      <th>47</th>\n",
       "      <td>51.0</td>\n",
       "      <td>27.171708</td>\n",
       "      <td>2021-08-26 18:08:01.413006</td>\n",
       "    </tr>\n",
       "    <tr>\n",
       "      <th>67</th>\n",
       "      <td>97.0</td>\n",
       "      <td>34.670554</td>\n",
       "      <td>2021-08-26 18:08:01.413006</td>\n",
       "    </tr>\n",
       "    <tr>\n",
       "      <th>362</th>\n",
       "      <td>327.0</td>\n",
       "      <td>22.916432</td>\n",
       "      <td>2021-08-26 18:08:01.413006</td>\n",
       "    </tr>\n",
       "    <tr>\n",
       "      <th>...</th>\n",
       "      <td>...</td>\n",
       "      <td>...</td>\n",
       "      <td>...</td>\n",
       "    </tr>\n",
       "    <tr>\n",
       "      <th>92</th>\n",
       "      <td>79.0</td>\n",
       "      <td>25.738413</td>\n",
       "      <td>2021-08-26 18:08:01.413006</td>\n",
       "    </tr>\n",
       "    <tr>\n",
       "      <th>224</th>\n",
       "      <td>251.0</td>\n",
       "      <td>29.765805</td>\n",
       "      <td>2021-08-26 18:08:01.413006</td>\n",
       "    </tr>\n",
       "    <tr>\n",
       "      <th>110</th>\n",
       "      <td>166.0</td>\n",
       "      <td>41.352617</td>\n",
       "      <td>2021-08-26 18:08:01.413006</td>\n",
       "    </tr>\n",
       "    <tr>\n",
       "      <th>426</th>\n",
       "      <td>422.0</td>\n",
       "      <td>21.862447</td>\n",
       "      <td>2021-08-26 18:08:01.413006</td>\n",
       "    </tr>\n",
       "    <tr>\n",
       "      <th>443</th>\n",
       "      <td>416.0</td>\n",
       "      <td>12.159157</td>\n",
       "      <td>2021-08-26 18:08:01.413006</td>\n",
       "    </tr>\n",
       "  </tbody>\n",
       "</table>\n",
       "<p>102 rows × 3 columns</p>\n",
       "</div>"
      ]
     },
     "metadata": {},
     "execution_count": 31
    }
   ],
   "metadata": {}
  },
  {
   "cell_type": "markdown",
   "source": [
    "## 4. Saving the predictions to Carol"
   ],
   "metadata": {}
  },
  {
   "cell_type": "code",
   "execution_count": 32,
   "source": [
    "staging = Staging(login)\n",
    "staging.send_data(\n",
    "    \"predictions\",\n",
    "    data=predictions,\n",
    "    connector_name=\"model\",\n",
    ")"
   ],
   "outputs": [
    {
     "output_type": "stream",
     "name": "stdout",
     "text": [
      "fetched crosswalk  ['sample']\n"
     ]
    }
   ],
   "metadata": {}
  }
 ],
 "metadata": {
  "kernelspec": {
   "name": "python3",
   "display_name": "Python 3.6.10 64-bit ('clockin': conda)"
  },
  "language_info": {
   "codemirror_mode": {
    "name": "ipython",
    "version": 3
   },
   "file_extension": ".py",
   "mimetype": "text/x-python",
   "name": "python",
   "nbconvert_exporter": "python",
   "pygments_lexer": "ipython3",
   "version": "3.6.10"
  },
  "interpreter": {
   "hash": "bdf3dce0a97848f891d5f2ae647f062915f1662d2ceb16fdaa7febb860905e1c"
  }
 },
 "nbformat": 4,
 "nbformat_minor": 4
}