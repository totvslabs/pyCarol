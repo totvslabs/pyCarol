{
 "cells": [
  {
   "cell_type": "markdown",
   "source": [
    "<h1><center>Train Model</center></h1>\n",
    "\n",
    "In this tutorial we check the simplest way of running a model training inside the Carol Platform. This notebook fetches data from Carol, train a regression model and deploys the model to a REST API."
   ],
   "metadata": {}
  },
  {
   "cell_type": "markdown",
   "source": [
    "## 0. Installing required packages\n",
    "\n",
    "Appart from the well known pandas an numpy libraries we are going to use:\n",
    " - sklearn: popular machine learning library comprising datasets, preprocessing and machine learning models.\n",
    " - pycarol: TOTVS library developed to assist on the data management for Carol platform.\n",
    " \n",
    "I you have not yet installed these libraries just uncomment and run the cells below."
   ],
   "metadata": {}
  },
  {
   "cell_type": "code",
   "execution_count": 2,
   "source": [
    "#!pip install pycarol\r\n",
    "#!pip install sklearn"
   ],
   "outputs": [],
   "metadata": {}
  },
  {
   "cell_type": "markdown",
   "source": [
    "## 1. Fetching data from Carol"
   ],
   "metadata": {}
  },
  {
   "cell_type": "markdown",
   "source": [
    "We start by defining a connection to the carol platform. To make the connection, though, we need to setup the security authorization to the environment, which is made through the __access token__.\n",
    "\n",
    "On this example we are simply passing the credentials directly through the code, which is not the best approach for long term solution, specially if this code needs to go through version control servers. A better solution is to store these credentials in expernal files, preferably encrypted, and load them at run time."
   ],
   "metadata": {}
  },
  {
   "cell_type": "code",
   "execution_count": 6,
   "source": [
    "from pycarol import Carol, Staging, ApiKeyAuth, Storage\r\n",
    "\r\n",
    "login = Carol()"
   ],
   "outputs": [],
   "metadata": {}
  },
  {
   "cell_type": "markdown",
   "source": [
    "Now we use the authentication to fetch the data from the staging"
   ],
   "metadata": {}
  },
  {
   "cell_type": "code",
   "execution_count": 13,
   "source": [
    "staging = Staging(login)\r\n",
    "\r\n",
    "conn = \"boston_house_price\"\r\n",
    "stag = \"samples\"\r\n",
    "\r\n",
    "X_cols = [\"CRIM\", \"ZN\", \"INDUS\", \"CHAS\", \"NOX\", \"RM\", \"AGE\", \"DIS\", \"RAD\", \"TAX\", \"PTRATIO\", \"B\", \"LSTAT\"] \r\n",
    "y_col = [\"target\"]\r\n",
    "roi_cols = X_cols + y_col\r\n",
    "\r\n",
    "data = staging.fetch_parquet(staging_name=stag,\r\n",
    "                connector_name=conn,\r\n",
    "                cds=True,\r\n",
    "                columns=roi_cols            \r\n",
    "                )"
   ],
   "outputs": [
    {
     "output_type": "stream",
     "name": "stderr",
     "text": [
      "100%|██████████| 9/9 [00:05<00:00,  1.68it/s]\n"
     ]
    }
   ],
   "metadata": {}
  },
  {
   "cell_type": "markdown",
   "source": [
    "Revising some sample records:"
   ],
   "metadata": {}
  },
  {
   "cell_type": "code",
   "execution_count": 20,
   "source": [
    "data.sample(3)"
   ],
   "outputs": [
    {
     "output_type": "execute_result",
     "data": {
      "text/plain": [
       "      AGE       B  CHAS     CRIM     DIS  INDUS  LSTAT    NOX  PTRATIO  RAD  \\\n",
       "550  88.8  306.38   0.0  0.95577  4.4534   8.14  17.28  0.538     21.0  4.0   \n",
       "622  97.4  363.43   0.0  1.22358  1.8773  19.58   4.59  0.605     14.7  5.0   \n",
       "27   39.0  390.50   0.0  0.09378  5.4509   7.87  15.71  0.524     15.2  5.0   \n",
       "\n",
       "        RM    TAX    ZN  target  \n",
       "550  6.047  307.0   0.0    14.8  \n",
       "622  6.943  403.0   0.0    41.3  \n",
       "27   5.889  311.0  12.5    21.7  "
      ],
      "text/html": [
       "<div>\n",
       "<style scoped>\n",
       "    .dataframe tbody tr th:only-of-type {\n",
       "        vertical-align: middle;\n",
       "    }\n",
       "\n",
       "    .dataframe tbody tr th {\n",
       "        vertical-align: top;\n",
       "    }\n",
       "\n",
       "    .dataframe thead th {\n",
       "        text-align: right;\n",
       "    }\n",
       "</style>\n",
       "<table border=\"1\" class=\"dataframe\">\n",
       "  <thead>\n",
       "    <tr style=\"text-align: right;\">\n",
       "      <th></th>\n",
       "      <th>AGE</th>\n",
       "      <th>B</th>\n",
       "      <th>CHAS</th>\n",
       "      <th>CRIM</th>\n",
       "      <th>DIS</th>\n",
       "      <th>INDUS</th>\n",
       "      <th>LSTAT</th>\n",
       "      <th>NOX</th>\n",
       "      <th>PTRATIO</th>\n",
       "      <th>RAD</th>\n",
       "      <th>RM</th>\n",
       "      <th>TAX</th>\n",
       "      <th>ZN</th>\n",
       "      <th>target</th>\n",
       "    </tr>\n",
       "  </thead>\n",
       "  <tbody>\n",
       "    <tr>\n",
       "      <th>550</th>\n",
       "      <td>88.8</td>\n",
       "      <td>306.38</td>\n",
       "      <td>0.0</td>\n",
       "      <td>0.95577</td>\n",
       "      <td>4.4534</td>\n",
       "      <td>8.14</td>\n",
       "      <td>17.28</td>\n",
       "      <td>0.538</td>\n",
       "      <td>21.0</td>\n",
       "      <td>4.0</td>\n",
       "      <td>6.047</td>\n",
       "      <td>307.0</td>\n",
       "      <td>0.0</td>\n",
       "      <td>14.8</td>\n",
       "    </tr>\n",
       "    <tr>\n",
       "      <th>622</th>\n",
       "      <td>97.4</td>\n",
       "      <td>363.43</td>\n",
       "      <td>0.0</td>\n",
       "      <td>1.22358</td>\n",
       "      <td>1.8773</td>\n",
       "      <td>19.58</td>\n",
       "      <td>4.59</td>\n",
       "      <td>0.605</td>\n",
       "      <td>14.7</td>\n",
       "      <td>5.0</td>\n",
       "      <td>6.943</td>\n",
       "      <td>403.0</td>\n",
       "      <td>0.0</td>\n",
       "      <td>41.3</td>\n",
       "    </tr>\n",
       "    <tr>\n",
       "      <th>27</th>\n",
       "      <td>39.0</td>\n",
       "      <td>390.50</td>\n",
       "      <td>0.0</td>\n",
       "      <td>0.09378</td>\n",
       "      <td>5.4509</td>\n",
       "      <td>7.87</td>\n",
       "      <td>15.71</td>\n",
       "      <td>0.524</td>\n",
       "      <td>15.2</td>\n",
       "      <td>5.0</td>\n",
       "      <td>5.889</td>\n",
       "      <td>311.0</td>\n",
       "      <td>12.5</td>\n",
       "      <td>21.7</td>\n",
       "    </tr>\n",
       "  </tbody>\n",
       "</table>\n",
       "</div>"
      ]
     },
     "metadata": {},
     "execution_count": 20
    }
   ],
   "metadata": {}
  },
  {
   "cell_type": "markdown",
   "source": [
    "## 2. Training a model"
   ],
   "metadata": {}
  },
  {
   "cell_type": "markdown",
   "source": [
    "Spliting the dataset in training and test parts."
   ],
   "metadata": {}
  },
  {
   "cell_type": "code",
   "execution_count": 16,
   "source": [
    "from sklearn.model_selection import train_test_split\r\n",
    "\r\n",
    "X_train, X_test, y_train, y_test = train_test_split(data[X_cols],\r\n",
    "                                                    data[y_col], \r\n",
    "                                                    test_size=0.20, \r\n",
    "                                                    random_state=1)"
   ],
   "outputs": [],
   "metadata": {}
  },
  {
   "cell_type": "markdown",
   "source": [
    "Fitting a Multilayer Perceptron model to the train data:"
   ],
   "metadata": {}
  },
  {
   "cell_type": "code",
   "execution_count": 80,
   "source": [
    "from sklearn.neural_network import MLPRegressor\r\n",
    "\r\n",
    "mlp_model = MLPRegressor(random_state=1, max_iter=500).fit(X_train, y_train[\"target\"].values)"
   ],
   "outputs": [],
   "metadata": {}
  },
  {
   "cell_type": "markdown",
   "source": [
    "Running predictions on the test set."
   ],
   "metadata": {}
  },
  {
   "cell_type": "code",
   "execution_count": 23,
   "source": [
    "y_pred = mlp_model.predict(X_test)"
   ],
   "outputs": [],
   "metadata": {}
  },
  {
   "cell_type": "markdown",
   "source": [
    "## 3. Running basic evaluation"
   ],
   "metadata": {}
  },
  {
   "cell_type": "markdown",
   "source": [
    "Measuring classical consilidated error metrics:"
   ],
   "metadata": {}
  },
  {
   "cell_type": "code",
   "execution_count": 57,
   "source": [
    "import numpy as np\r\n",
    "\r\n",
    "y_real = list(y_test[\"target\"].values)\r\n",
    "residual = list(y_test[\"target\"].values) - y_pred\r\n",
    "\r\n",
    "mse_f = np.mean(residual**2)\r\n",
    "mae_f = np.mean(abs(residual))\r\n",
    "rmse_f = np.sqrt(mse_f)\r\n",
    "\r\n",
    "display(f\"Mean Squared Error (MSE): {mse_f}.\")\r\n",
    "display(f\"Mean Absolute Error (MAE): {mae_f}.\")\r\n",
    "display(f\"Root Mean Squared Error (RMSE): {rmse_f}.\")"
   ],
   "outputs": [
    {
     "output_type": "display_data",
     "data": {
      "text/plain": [
       "'Mean Squared Error (MSE): 32.83513021826763.'"
      ]
     },
     "metadata": {}
    },
    {
     "output_type": "display_data",
     "data": {
      "text/plain": [
       "'Mean Absolute Error (MAE): 4.538316218898927.'"
      ]
     },
     "metadata": {}
    },
    {
     "output_type": "display_data",
     "data": {
      "text/plain": [
       "'Root Mean Squared Error (RMSE): 5.7301946056192214.'"
      ]
     },
     "metadata": {}
    }
   ],
   "metadata": {}
  },
  {
   "cell_type": "markdown",
   "source": [
    "Plotting residuals"
   ],
   "metadata": {}
  },
  {
   "cell_type": "code",
   "execution_count": 81,
   "source": [
    "import pandas as pd\r\n",
    "import seaborn as sns; sns.set_theme(color_codes=True)\r\n",
    "from matplotlib import pyplot as plt\r\n",
    "\r\n",
    "res_df = pd.DataFrame({\"y\":y_real, \"res\":residual})\r\n",
    "\r\n",
    "plt.figure(figsize=(20,8))\r\n",
    "ax = sns.regplot(x=\"y\", y=\"res\", data=res_df)\r\n",
    "ax.set_title('Residual Plot')\r\n",
    "tmp = ax.set(xlabel='Real Value', ylabel='Prediction Error')"
   ],
   "outputs": [
    {
     "output_type": "display_data",
     "data": {
      "text/plain": [
       "<Figure size 1440x576 with 1 Axes>"
      ],
      "image/png": "[encoded data removed]"
     },
     "metadata": {}
    }
   ],
   "metadata": {}
  },
  {
   "cell_type": "markdown",
   "source": [
    "## 4. Saving model to storage"
   ],
   "metadata": {}
  },
  {
   "cell_type": "code",
   "execution_count": null,
   "source": [
    "stg = Storage(login)\r\n",
    "stg.save(\"bhp_mlp_regressor\", mlp_model, format='pickle')"
   ],
   "outputs": [],
   "metadata": {}
  }
 ],
 "metadata": {
  "kernelspec": {
   "display_name": "Python 3",
   "language": "python",
   "name": "python3"
  },
  "language_info": {
   "codemirror_mode": {
    "name": "ipython",
    "version": 3
   },
   "file_extension": ".py",
   "mimetype": "text/x-python",
   "name": "python",
   "nbconvert_exporter": "python",
   "pygments_lexer": "ipython3",
   "version": "3.8.5"
  }
 },
 "nbformat": 4,
 "nbformat_minor": 4
}